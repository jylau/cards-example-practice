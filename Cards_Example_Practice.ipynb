{
 "cells": [
  {
   "cell_type": "code",
   "execution_count": 37,
   "metadata": {},
   "outputs": [],
   "source": [
    "from collections import deque\n",
    "from random import shuffle"
   ]
  },
  {
   "cell_type": "code",
   "execution_count": null,
   "metadata": {},
   "outputs": [],
   "source": [
    "class Card:\n",
    "    def __init__(self, rank, suit):\n",
    "        self._rank = rank\n",
    "        self._suit = suit\n",
    "    \n",
    "    def value(self, suit_ranking='none'):\n",
    "        ranks = [str(i) for i in range(2, 11)] + list('JQKA')\n",
    "        value_shift = 2 # shifting values so that a 2 card has a value of 2\n",
    "        if suit_ranking == 'none':\n",
    "            return value_shift + ranks.index(self._rank)\n",
    "        elif type(suit_ranking) == str:\n",
    "            suit_ranking = suit_ranking.split()\n",
    "            suit_value = (len(suit_ranking) - suit_ranking.index(self._suit)) / 10\n",
    "            return value_shift + ranks.index(self._rank) + suit_value\n",
    "        \n",
    "    def __str__(self):\n",
    "        return \"Card({0}, {1})\".format(self._rank, self._suit)"
   ]
  },
  {
   "cell_type": "code",
   "execution_count": 51,
   "metadata": {},
   "outputs": [],
   "source": [
    "class CardGroup:\n",
    "    def __len__(self):\n",
    "        return len(self._cards)\n",
    "    \n",
    "    def __getitem__(self, position):\n",
    "        return self._cards[position]\n",
    "    \n",
    "    def add(self, card):\n",
    "        self._cards.append(card)\n",
    "        \n",
    "    def remove(self, card):\n",
    "        self._cards.remove(card)\n",
    "        \n",
    "    def __str__(self):\n",
    "        [print(card) for card in self._cards]\n",
    "        return 'Number of cards: {0}'.format(len(self._cards))\n",
    "    \n",
    "class Deck(CardGroup):\n",
    "    ranks = [str(i) for i in range(2, 11)] + list('JQKA')\n",
    "    suits = 'spades diamonds clubs hearts'.split()\n",
    "    \n",
    "    def __init__(self):\n",
    "        self._cards = deque([Card(rank, suit) for suit in self.suits for rank in self.ranks])\n",
    "    \n",
    "    def shuffle(self):\n",
    "        shuffle(self._cards)\n",
    "        \n",
    "    def draw(self):\n",
    "        return self._cards.pop()\n",
    "    \n",
    "class Hand(CardGroup):\n",
    "    def __init__(self, hand_max='none'):\n",
    "        self._cards = []\n",
    "        self._hand_max = hand_max\n",
    "\n",
    "    def add(self, card):\n",
    "        if self._hand_max == 'none':\n",
    "            self._cards.append(card)\n",
    "        elif type(self._hand_max) == int and len(self._cards) < self._hand_max:\n",
    "            self._cards.append(card)\n",
    "        elif type(self._hand_max) == int:\n",
    "            raise Exception('You cannot add a card to your hand. Max number reached.')\n",
    "    \n",
    "class Discard(CardGroup):\n",
    "    def __init__(self):\n",
    "        self._cards = []"
   ]
  },
  {
   "cell_type": "code",
   "execution_count": 52,
   "metadata": {},
   "outputs": [],
   "source": [
    "class CardGame:\n",
    "    def __init__(self, num_players=1, hand_max='none'):\n",
    "        self._deck, self._discard = Deck(), Discard()\n",
    "        self._num_players, self._hand_max = num_players, hand_max\n",
    "        self._player_hands = [Hand(hand_max) for x in range(self._num_players)]\n",
    "        \n",
    "    def deal(self, num_cards):\n",
    "        for i in range(num_cards):\n",
    "            for player_hand in self._player_hands:\n",
    "                player_hand.add(self._deck.draw())"
   ]
  },
  {
   "cell_type": "code",
   "execution_count": 55,
   "metadata": {},
   "outputs": [
    {
     "name": "stdout",
     "output_type": "stream",
     "text": [
      "Card(10, clubs)\n",
      "Card(K, diamonds)\n",
      "Card(3, diamonds)\n",
      "Card(6, hearts)\n",
      "Card(Q, hearts)\n",
      "Number of cards: 5\n"
     ]
    }
   ],
   "source": [
    "poker = CardGame()\n",
    "poker._deck.shuffle()\n",
    "poker.deal(5)\n",
    "\n",
    "print(poker._player_hands[0])"
   ]
  }
 ],
 "metadata": {
  "kernelspec": {
   "display_name": "Python 3",
   "language": "python",
   "name": "python3"
  },
  "language_info": {
   "codemirror_mode": {
    "name": "ipython",
    "version": 3
   },
   "file_extension": ".py",
   "mimetype": "text/x-python",
   "name": "python",
   "nbconvert_exporter": "python",
   "pygments_lexer": "ipython3",
   "version": "3.6.5"
  }
 },
 "nbformat": 4,
 "nbformat_minor": 2
}
